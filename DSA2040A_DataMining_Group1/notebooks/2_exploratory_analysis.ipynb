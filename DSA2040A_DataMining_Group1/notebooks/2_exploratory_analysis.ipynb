{
 "cells": [
  {
   "cell_type": "markdown",
   "id": "51ef1702",
   "metadata": {},
   "source": [
    "# 2. Exploratory Data Analysis (EDA)\n",
    "\n",
    "**Author**: Faith\n",
    "\n",
    "This notebook performs exploratory and statistical analysis on the cleaned Mental Health in Tech dataset. The goal is to understand the distribution of variables and uncover initial patterns related to treatment-seeking behavior.\n"
   ]
  },
  {
   "cell_type": "code",
   "execution_count": 3,
   "id": "3661296c",
   "metadata": {},
   "outputs": [],
   "source": [
    "# 📥 Step 1: Import Libraries\n",
    "import pandas as pd\n",
    "import matplotlib.pyplot as plt\n",
    "import seaborn as sns\n",
    "\n",
    "sns.set(style='whitegrid')\n"
   ]
  },
  {
   "cell_type": "code",
   "execution_count": null,
   "id": "842c853a",
   "metadata": {},
   "outputs": [],
   "source": []
  }
 ],
 "metadata": {
  "kernelspec": {
   "display_name": "Python 3",
   "language": "python",
   "name": "python3"
  },
  "language_info": {
   "codemirror_mode": {
    "name": "ipython",
    "version": 3
   },
   "file_extension": ".py",
   "mimetype": "text/x-python",
   "name": "python",
   "nbconvert_exporter": "python",
   "pygments_lexer": "ipython3",
   "version": "3.12.10"
  }
 },
 "nbformat": 4,
 "nbformat_minor": 5
}
