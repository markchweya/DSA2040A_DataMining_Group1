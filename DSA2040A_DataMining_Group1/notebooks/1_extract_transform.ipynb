# Notebook: Extract & Transform

# Author: Nicholas